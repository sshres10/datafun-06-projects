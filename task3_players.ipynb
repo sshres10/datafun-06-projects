{
 "cells": [
  {
   "cell_type": "markdown",
   "metadata": {},
   "source": [
    "# Soocer Players Data Exploration by Sushanta Shrestha\n",
    "## Section 1 - Load - Read from a data file into a pandas DataFrame"
   ]
  },
  {
   "cell_type": "code",
   "execution_count": 3,
   "metadata": {},
   "outputs": [],
   "source": [
    "# Import necessary libraries\n",
    "import pandas as pd\n",
    "import matplotlib.pyplot as plt\n",
    "\n",
    "# Load the dataset\n",
    "df = pd.read_csv('players.csv')"
   ]
  },
  {
   "cell_type": "markdown",
   "metadata": {},
   "source": [
    "## Section 2 - -View - Display the first 5 rows and the last 5 rows"
   ]
  },
  {
   "cell_type": "code",
   "execution_count": 4,
   "metadata": {},
   "outputs": [
    {
     "name": "stdout",
     "output_type": "stream",
     "text": [
      "         Full Name  age   birthday birthday_GMT          league     season  \\\n",
      "0  Aaron Cresswell   32  629712000   12/15/1989  Premier League  2018/2019   \n",
      "1     Aaron Lennon   35  545554800    4/16/1987  Premier League  2018/2019   \n",
      "2       Aaron Mooy   32  653382000    9/15/1990  Premier League  2018/2019   \n",
      "3     Aaron Ramsey   31  662198400   12/26/1990  Premier League  2018/2019   \n",
      "4       Aaron Rowe   22  968310000     9/7/2000  Premier League  2018/2019   \n",
      "\n",
      "     position       Current Club  minutes_played_overall  minutes_played_home  \\\n",
      "0    Defender    West Ham United                    1589                  888   \n",
      "1  Midfielder            Burnley                    1217                  487   \n",
      "2  Midfielder  Huddersfield Town                    2327                 1190   \n",
      "3  Midfielder            Arsenal                    1327                  689   \n",
      "4     Forward  Huddersfield Town                      69                   14   \n",
      "\n",
      "   ...  annual_salary_eur_percentile  \\\n",
      "0  ...                           NaN   \n",
      "1  ...                           NaN   \n",
      "2  ...                           NaN   \n",
      "3  ...                           NaN   \n",
      "4  ...                           NaN   \n",
      "\n",
      "  clean_sheets_percentage_percentile_overall  min_per_card_percentile_overall  \\\n",
      "0                                        NaN                              NaN   \n",
      "1                                        NaN                              NaN   \n",
      "2                                        NaN                              NaN   \n",
      "3                                        NaN                              NaN   \n",
      "4                                        NaN                              NaN   \n",
      "\n",
      "   cards_per90_percentile_overall  booked_over05_overall  \\\n",
      "0                             NaN                    NaN   \n",
      "1                             NaN                    NaN   \n",
      "2                             NaN                    NaN   \n",
      "3                             NaN                    NaN   \n",
      "4                             NaN                    NaN   \n",
      "\n",
      "   booked_over05_percentage_overall  \\\n",
      "0                               NaN   \n",
      "1                               NaN   \n",
      "2                               NaN   \n",
      "3                               NaN   \n",
      "4                               NaN   \n",
      "\n",
      "   booked_over05_percentage_percentile_overall  shirt_number  \\\n",
      "0                                          NaN           NaN   \n",
      "1                                          NaN           NaN   \n",
      "2                                          NaN           NaN   \n",
      "3                                          NaN           NaN   \n",
      "4                                          NaN           NaN   \n",
      "\n",
      "   annual_salary_gbp  annual_salary_usd  \n",
      "0                NaN                NaN  \n",
      "1                NaN                NaN  \n",
      "2                NaN                NaN  \n",
      "3                NaN                NaN  \n",
      "4                NaN                NaN  \n",
      "\n",
      "[5 rows x 277 columns]\n"
     ]
    }
   ],
   "source": [
    "print(df.head(5))"
   ]
  },
  {
   "cell_type": "markdown",
   "metadata": {},
   "source": [
    "## Section 3-Describe: Use the DataFrame describe() function to calculate basic descriptive statistics for all numeric columns. "
   ]
  },
  {
   "cell_type": "code",
   "execution_count": 5,
   "metadata": {},
   "outputs": [
    {
     "name": "stdout",
     "output_type": "stream",
     "text": [
      "              age      birthday  minutes_played_overall  minutes_played_home  \\\n",
      "count  570.000000  5.700000e+02              570.000000            570.00000   \n",
      "mean    29.742105  7.123617e+08             1317.577193            658.95614   \n",
      "std      4.385447  1.380632e+08             1096.272614            557.48134   \n",
      "min     21.000000  2.958588e+08                0.000000              0.00000   \n",
      "25%     26.000000  6.191244e+08              212.250000             90.00000   \n",
      "50%     30.000000  7.074684e+08             1115.500000            540.00000   \n",
      "75%     33.000000  8.168328e+08             2185.500000           1126.75000   \n",
      "max     43.000000  1.001920e+09             3420.000000           1710.00000   \n",
      "\n",
      "       minutes_played_away  appearances_overall  appearances_home  \\\n",
      "count           570.000000           570.000000        570.000000   \n",
      "mean            658.621053            18.380702          9.184211   \n",
      "std             549.122038            12.863375          6.525286   \n",
      "min               0.000000             0.000000          0.000000   \n",
      "25%             102.000000             6.000000          3.000000   \n",
      "50%             565.000000            19.000000         10.000000   \n",
      "75%            1121.500000            30.000000         15.000000   \n",
      "max            1710.000000            38.000000         19.000000   \n",
      "\n",
      "       appearances_away  goals_overall  goals_home  ...  \\\n",
      "count        570.000000     570.000000  570.000000  ...   \n",
      "mean           9.196491       1.824561    1.008772  ...   \n",
      "std            6.491307       3.478899    2.151942  ...   \n",
      "min            0.000000       0.000000    0.000000  ...   \n",
      "25%            3.000000       0.000000    0.000000  ...   \n",
      "50%            9.500000       0.000000    0.000000  ...   \n",
      "75%           15.000000       2.000000    1.000000  ...   \n",
      "max           19.000000      22.000000   18.000000  ...   \n",
      "\n",
      "       annual_salary_eur_percentile  \\\n",
      "count                           0.0   \n",
      "mean                            NaN   \n",
      "std                             NaN   \n",
      "min                             NaN   \n",
      "25%                             NaN   \n",
      "50%                             NaN   \n",
      "75%                             NaN   \n",
      "max                             NaN   \n",
      "\n",
      "       clean_sheets_percentage_percentile_overall  \\\n",
      "count                                         0.0   \n",
      "mean                                          NaN   \n",
      "std                                           NaN   \n",
      "min                                           NaN   \n",
      "25%                                           NaN   \n",
      "50%                                           NaN   \n",
      "75%                                           NaN   \n",
      "max                                           NaN   \n",
      "\n",
      "       min_per_card_percentile_overall  cards_per90_percentile_overall  \\\n",
      "count                              0.0                             0.0   \n",
      "mean                               NaN                             NaN   \n",
      "std                                NaN                             NaN   \n",
      "min                                NaN                             NaN   \n",
      "25%                                NaN                             NaN   \n",
      "50%                                NaN                             NaN   \n",
      "75%                                NaN                             NaN   \n",
      "max                                NaN                             NaN   \n",
      "\n",
      "       booked_over05_overall  booked_over05_percentage_overall  \\\n",
      "count                    0.0                               0.0   \n",
      "mean                     NaN                               NaN   \n",
      "std                      NaN                               NaN   \n",
      "min                      NaN                               NaN   \n",
      "25%                      NaN                               NaN   \n",
      "50%                      NaN                               NaN   \n",
      "75%                      NaN                               NaN   \n",
      "max                      NaN                               NaN   \n",
      "\n",
      "       booked_over05_percentage_percentile_overall  shirt_number  \\\n",
      "count                                          0.0           0.0   \n",
      "mean                                           NaN           NaN   \n",
      "std                                            NaN           NaN   \n",
      "min                                            NaN           NaN   \n",
      "25%                                            NaN           NaN   \n",
      "50%                                            NaN           NaN   \n",
      "75%                                            NaN           NaN   \n",
      "max                                            NaN           NaN   \n",
      "\n",
      "       annual_salary_gbp  annual_salary_usd  \n",
      "count                0.0                0.0  \n",
      "mean                 NaN                NaN  \n",
      "std                  NaN                NaN  \n",
      "min                  NaN                NaN  \n",
      "25%                  NaN                NaN  \n",
      "50%                  NaN                NaN  \n",
      "75%                  NaN                NaN  \n",
      "max                  NaN                NaN  \n",
      "\n",
      "[8 rows x 270 columns]\n"
     ]
    }
   ],
   "source": [
    "# Calculate basic descriptive statistics for all numeric columns\n",
    "print(df.describe())\n"
   ]
  },
  {
   "cell_type": "markdown",
   "metadata": {},
   "source": [
    "## Section 4-Series: Use the Series method describe() to calculate the descriptive stats for all category/text columns."
   ]
  },
  {
   "cell_type": "code",
   "execution_count": 6,
   "metadata": {},
   "outputs": [
    {
     "name": "stdout",
     "output_type": "stream",
     "text": [
      "count            570\n",
      "unique           569\n",
      "top       Danny Ward\n",
      "freq               2\n",
      "Name: Full Name, dtype: object\n",
      "count          570\n",
      "unique         540\n",
      "top       1/8/1991\n",
      "freq             3\n",
      "Name: birthday_GMT, dtype: object\n",
      "count                570\n",
      "unique                 1\n",
      "top       Premier League\n",
      "freq                 570\n",
      "Name: league, dtype: object\n",
      "count           570\n",
      "unique            1\n",
      "top       2018/2019\n",
      "freq            570\n",
      "Name: season, dtype: object\n",
      "count            570\n",
      "unique             4\n",
      "top       Midfielder\n",
      "freq             211\n",
      "Name: position, dtype: object\n",
      "count                   570\n",
      "unique                   20\n",
      "top       Huddersfield Town\n",
      "freq                     32\n",
      "Name: Current Club, dtype: object\n",
      "count         570\n",
      "unique         67\n",
      "top       England\n",
      "freq          215\n",
      "Name: nationality, dtype: object\n"
     ]
    }
   ],
   "source": [
    "# Calculate descriptive stats for all category/text columns\n",
    "for column in df.select_dtypes(include=['object']).columns:\n",
    "    print(df[column].describe())\n"
   ]
  },
  {
   "cell_type": "markdown",
   "metadata": {},
   "source": [
    "## Section 5: Unique: Get unique category values\n"
   ]
  },
  {
   "cell_type": "code",
   "execution_count": 7,
   "metadata": {},
   "outputs": [
    {
     "name": "stdout",
     "output_type": "stream",
     "text": [
      "['Aaron Cresswell' 'Aaron Lennon' 'Aaron Mooy' 'Aaron Ramsey' 'Aaron Rowe'\n",
      " 'Aaron Wan-Bissaka' 'Abdelhamid Sabiri' 'Abdoulaye Doucouré'\n",
      " 'Aboubakar Kamara' 'Adalberto Peñaranda Maestre' 'Adam Lallana'\n",
      " 'Adam Masina' 'Adam Smith' 'Adama Diakhaby' 'Adama Traoré'\n",
      " 'Ademola Lookman' 'Adrián' 'Adrian Mariappa'\n",
      " 'Adrien Sebastian Perruchet Silva' 'Ainsley Maitland-Niles'\n",
      " 'Alberto Moreno' 'Aleksandar Mitrović' 'Alex Iwobi' 'Alex McCarthy'\n",
      " 'Alex Oxlade-Chamberlain' 'Alex Pritchard' 'Alex Smithies'\n",
      " 'Alexander Sørloth' 'Alexandre Lacazette'\n",
      " 'Alexandre Nascimento Costa Silva' 'Alexis Sanchez' 'Alfie Jones'\n",
      " 'Alfie Mawson' 'Alfie Whiteman' 'Ali Koiki' 'Alireza Jahanbakhsh'\n",
      " 'Alisson Becker' 'Alvaro Morata' 'Ander Herrera' 'André Gomes'\n",
      " 'Andre Gray' 'André Schürrle' 'André-Frank Zambo Anguissa'\n",
      " 'Andreas Christensen' 'Andreas Pereira' 'Andrew Robertson'\n",
      " 'Andrew Surman' 'Andriy Yarmolenko' 'Andros Townsend' 'Andy Carroll'\n",
      " 'Angel Gomes' 'Angelo Ogbonna' 'Angus Gunn' 'Anthony Driscoll-Glennon'\n",
      " 'Anthony Knockaert' 'Anthony Martial' 'Antonio Barreca' 'Antonio Rüdiger'\n",
      " 'Antonio Valencia' 'Arijanet Muric' 'Aron Einar Gunnarsson'\n",
      " 'Arthur Masuaku' 'Artur Boruc' 'Ashley Barnes' 'Ashley Westwood'\n",
      " 'Ashley Young' 'Asmir Begović' 'Aymeric Laporte' 'Ayoze Perez'\n",
      " 'Bakary Sako' 'Ben Chilwell' 'Ben Davies' 'Ben Foster' 'Ben Gibson'\n",
      " 'Ben Hamer' 'Ben Johnson' 'Ben Mee' 'Ben White' 'Ben Wilmot'\n",
      " 'Benjamin Mendy' 'Beram Kayal' 'Bernard Anício Caldeira Duarte'\n",
      " 'Bernardo' 'Bernardo Silva' 'Bernd Leno' 'Bobby Reid' 'Brian Murphy'\n",
      " 'Bright Enobakhare' 'Bruno Écuélé Manga' 'Bruno Saltor Grau'\n",
      " 'Caglar Söyüncü' 'Callum Hudson-Odoi' 'Callum Paterson' 'Callum Roberts'\n",
      " 'Callum Slattery' 'Callum Wilson' 'Calum Chambers' 'Cameron John'\n",
      " 'Carl Jenkinson' 'Carlos Sánchez' 'Cedric Soares' 'Cenk Tosun'\n",
      " 'Cesar Azpilicueta' 'Cesc Fabregas' 'Charlie Austin' 'Charlie Daniels'\n",
      " 'Charlie Taylor' 'Cheikhou Kouyaté' 'Chris Löwe' 'Chris Mepham'\n",
      " 'Chris Smalling' 'Chris Wood' 'Christian Atsu Twasam' 'Christian Benteke'\n",
      " 'Christian Eriksen' 'Christian Fuchs' 'Christian Kabasele'\n",
      " 'Christopher Schindler' 'Ciaran Clark' 'Claudio Bravo' 'Collin Quaner'\n",
      " 'Connor Wickham' 'Conor Coady' 'Conor Coventry' 'Craig Cathcart'\n",
      " 'Curtis Jones' 'Cyrus Christie' 'Dale Stephens' 'Dan Burn' 'Dan Gosling'\n",
      " 'Daniel Amartey' 'Daniel Sturridge' 'Daniel Williams' 'Danilo'\n",
      " 'Danny Drinkwater' 'Danny Ings' 'Danny Rose' 'Danny Simpson' 'Danny Ward'\n",
      " 'Danny Welbeck' 'Daryl Janmaat' 'David Brooks' 'David Button'\n",
      " 'David de Gea' 'David Junior Hoilett' 'David Luiz' 'David Silva'\n",
      " 'Davide Zappacosta' 'Davinson Sánchez' 'Davy Pröpper' 'DeAndre Yedlin'\n",
      " 'Declan Rice' 'Dejan Lovren' 'Dele Alli' 'Demarai Gray' 'Demeaco Duhaney'\n",
      " 'Denis Odoi' 'Denis Suárez' 'Diego Rico' 'Diogo Dalot'\n",
      " 'Diogo José Teixeira da Silva' 'Divock Origi' 'Domingos Quina'\n",
      " 'Dominic Calvert-Lewin' 'Dominic Solanke' 'Dwight McNeil' 'Eden Hazard'\n",
      " 'Ederson' 'Edward Nketiah' 'Elias Kachunga' 'Emerson Hyndman'\n",
      " 'Emerson Palmieri' 'Emile Smith Rowe' 'Emiliano Martínez' 'Eric Bailly'\n",
      " 'Eric Dier' 'Erik Durm' 'Erik Lamela' 'Ethan Ampadu' 'Étienne Capoue'\n",
      " 'Fabián Balbuena' 'Fabian Delph' 'Fabian Schär' 'Fabinho'\n",
      " 'Fabricio Martín Agosto Ramírez' 'Faustino Marcos Alberto Rojo'\n",
      " 'Federico Fernández' 'Felipe Anderson' 'Fernandinho'\n",
      " 'Fernando Llorente Torres' 'Florent Hadergjonaj' 'Florian Lejeune'\n",
      " 'Florin Andone' 'Floyd Ayité' 'Fousseni Diabaté' 'Fraser Forster' 'Fred'\n",
      " 'Freddie Woodman' 'Gabriel Jesus' 'Gaëtan Bong Songo' 'Gary Cahill'\n",
      " 'Gary Madine' 'George Marsh' \"Georges-Kevin N'Koudou Mbida\"\n",
      " 'Georginio Wijnaldum' 'Gerard Deulofeu' 'Glenn Murray' 'Gonzalo Higuain'\n",
      " 'Grady Diangana' 'Granit Xhaka' 'Greg Cunningham' 'Gylfi Sigurdsson'\n",
      " 'Hamza Choudhury' 'Harry Arter' 'Harry Kane' 'Harry Maguire'\n",
      " 'Harry Winks' 'Harvey Barnes' 'Håvard Nordtveit' 'Hector Bellerin'\n",
      " 'Hélder Wander Sousa Azevedo Costa' 'Henrikh Mkhitaryan' 'Heung-Min Son'\n",
      " 'Heurelho da Silva Gomes' 'Hugo Lloris' 'Ibrahima Cissé' 'Idrissa Gueye'\n",
      " 'İlkay Gündoğan' 'Isaac Hayden' 'Isaac Mbenza' 'Isaac Success'\n",
      " 'Issa Diop' 'Ivan Ricardo Neves Abreu Cavaleiro' 'Jack Cork'\n",
      " 'Jack Simpson' 'Jack Stephens' 'Jack Wilshere' 'Jacob Murphy'\n",
      " 'Jaïro Riedewald' 'Jamaal Lascelles' 'James Garner' 'James Maddison'\n",
      " 'James McArthur' 'James McCarthy' 'James Milner' 'James Tarkowski'\n",
      " 'James Tomkins' 'James Ward-Prowse' 'Jamie Sterry' 'Jamie Vardy'\n",
      " 'Jan Bednarek' 'Jan Vertonghen' 'Jannik Vestergaard' 'Jason Puncheon'\n",
      " 'Jason Steele' 'Javier Hernandez' 'Javier Manquillo' 'Jayson Molumby'\n",
      " 'Jazz Richards' 'Jean Michau00ebl Seri' 'Jeff Hendrick' 'Jefferson Lerma'\n",
      " 'Jeffrey Schlupp' 'Jermain Defoe' 'Jesse Lingard' 'João Moutinho'\n",
      " 'Joe Bennett' 'Joe Bryan' 'Joe Daniel Tupper' 'Joe Gomez' 'Joe Hart'\n",
      " 'Joe Powell' 'Joe Ralls' 'Joel Coleman' 'Joel Matip' 'Joel Ward'\n",
      " 'Johann Berg Guðmunds\\xadson' 'John Ruddy' 'John Stones'\n",
      " 'Jon Gorenc Stankovič' 'Jonas Lössl' 'Jonathan Hogg' 'Jonathan Walters'\n",
      " 'Jonjo Shelvey' 'Jonjoe Kenny' 'Jonny' 'Jonny Evans' 'Jordan Ayew'\n",
      " 'Jordan Henderson' 'Jordan Pickford' 'Jordon Ibe' 'Jorginho'\n",
      " 'José Holebas' 'Jose Izquierdo' 'Joselu' 'Joseph Willock' 'Josh Benson'\n",
      " 'Josh Knight' 'Josh Murphy' 'Joshua King' 'Joshua Sims' 'Juan Foyth'\n",
      " 'Juan Mata' 'Julián Speroni' 'Juninho Bacuna' 'Junior Stanislas'\n",
      " 'Jürgen Locadia' 'Kadeem Harris' 'Karl Darlow' 'Karlan Ahearne-Grant'\n",
      " 'Kasper Schmeichel' 'Kayne Ramsey' 'Kazaiah Sterling' 'Kelechi Iheanacho'\n",
      " 'Kelland Watts' 'Ken Sema' 'Kenneth Dahrup Zohorè' 'Kepa Arrizabalaga'\n",
      " 'Kevin De Bruyne' 'Kevin Long' 'Kevin McDonald' 'Ki Sung-yueng'\n",
      " 'Kieran Dowell' 'Kieran Trippier' 'Kiko Femenía'\n",
      " 'Konstantinos Mavropanos' 'Kortney Hause' 'Kurt Zouma' 'Kyle Taylor'\n",
      " 'Kyle Walker' 'Kyle Walker-Peters' 'Laurent Depoitre' 'Laurent Koscielny'\n",
      " 'Lazar Marković' 'Leander Dendoncker' 'Leandro Bacuna' 'Lee Grant'\n",
      " 'Lee Peltier' 'Leighton Baines' 'Leon Balogun'\n",
      " 'Leonardo Bonatini Lohner Maia' 'Leroy Sané' 'Lewis Cass' 'Lewis Cook'\n",
      " 'Lewis Dunk' 'Loïc Damour' 'Loris Karius' 'Luca de la Torre'\n",
      " 'Lucas Digne' 'Lucas Moura' 'Lucas Perez' 'Lucas Torreira'\n",
      " 'Luciano Vietto' 'Luka Milivojević' 'Luke Amos' 'Luke Dreher' 'Luke Shaw'\n",
      " 'Lys Mousset' 'Maarten Stekelenburg' 'Mamadou Sakho' 'Manolo Gabbiadini'\n",
      " 'Manuel Lanzini' 'Marc Albrighton' 'Marc Guehi' 'Marc Navarro Ceciliano'\n",
      " 'Marc Pugh' 'Marcos Alonso' 'Marcus Bettinelli' 'Marcus Rashford'\n",
      " 'Mario Lemina' 'Mark Noble' 'Mark Travers' 'Marko Arnautović'\n",
      " 'Markus Suttner' 'Marouane Fellaini' 'Martin Dúbravka' 'Martin Kelly'\n",
      " 'Martín Montoya' 'Mason Greenwood' 'Mason Holgate' 'Matěj Vydra'\n",
      " 'Mateo Kovačić' 'Mathew Ryan' 'Mathias Jørgensen' 'Matt Butcher'\n",
      " 'Matt Doherty' 'Matt Ritchie' 'Matt Targett' 'Matteo Darmian'\n",
      " 'Matteo Guendouzi' 'Matthew Connolly' 'Matthew Lowton' 'Matty Daly'\n",
      " 'Max Harrison Sanders' 'Max Kilman' 'Max Meyer' 'Maxime Le Marchand'\n",
      " 'Maya Yoshida' 'Mesut Özil' 'Michael Keane' 'Michael Obafemi'\n",
      " 'Michail Antonio' 'Michel Vorm' 'Michy Batshuayi' 'Miguel Almirón'\n",
      " 'Miguel Ángel Britos Cabrera' 'Mohamed Diamé' 'Mohamed Elneny'\n",
      " 'Mohamed Elyounoussi' 'Mohamed Salah' 'Morgan Gibbs-White'\n",
      " 'Morgan Schneiderlin' 'Moussa Dembele' 'Moussa Sissoko' \"N'Golo Kanté\"\n",
      " 'Naby Keïta' 'Nacho Monreal' 'Nampalys Mendy' 'Nathan Aké'\n",
      " 'Nathan Holland' 'Nathan Redmond' 'Nathaniel Chalobah' 'Nathaniel Clyne'\n",
      " 'Nathaniel Mendez-Laing' 'Neeskens Kebano' 'Neil Leonard Dula Etheridge'\n",
      " 'Nemanja Matić' 'Nicolas Otamendi' 'Nikola Tavares' 'Nnamdi Ofoborh'\n",
      " 'Oleksandr Zinchenko' 'Oliver Skipp' 'Olivier Giroud' 'Oriol Romeu'\n",
      " 'Oumar Niasse' 'Pablo Zabaleta' \"Pape N'Diaye Souaré\" 'Pascal Groß'\n",
      " 'Patrick van Aanholt' 'Paul Dummett' 'Paul Pogba' 'Paulo Gazzaniga'\n",
      " 'Pedro Obiang' 'Pedro Rodriguez' 'Peter Crouch' 'Petr Čech'\n",
      " 'Phil Bardsley' 'Phil Foden' 'Phil Jagielka' 'Phil Jones'\n",
      " 'Philip Billing' 'Philippe Sandler' 'Pierre-Emerick Aubameyang'\n",
      " 'Pierre-Emile Højbjerg' 'Rachid Ghezzal' 'Rafael Euclides Soares Camacho'\n",
      " 'Raheem Sterling' 'Rajiv van La Parra' 'Ramadan Sobhi' 'Raúl Jiménez'\n",
      " 'Rhys Healey' 'Ricardo Pereira' 'Richarlison' 'Riyad Mahrez'\n",
      " 'Rob Holding' 'Robbie Brady' 'Robert Kenedy Nunes do Nascimento'\n",
      " 'Robert Snodgrass' 'Roberto Firmino' 'Roberto Pereyra' 'Romain Saïss'\n",
      " 'Romelu Lukaku' 'Rondon' 'Ross Barkley' 'Ruben Loftus-Cheek'\n",
      " 'Rúben Neves' 'Ruben Vinagre' 'Rui Patrício' 'Ryan Bennett'\n",
      " 'Ryan Bertrand' 'Ryan Fraser' 'Ryan Fredericks' 'Ryan Giles'\n",
      " 'Ryan Guno Babel' 'Ryan Schofield' 'Ryan Sessegnon' 'Sadio Mané'\n",
      " 'Sam Gallagher' 'Sam Surridge' 'Sam Vokes' 'Sam Woods' 'Samir Nasri'\n",
      " 'Sandro Ramirez' 'Scott Dann' 'Scott McTominay' 'Sead Kolašinac'\n",
      " 'Séamus Coleman' 'Sean Longstaff' 'Sean Morrison' 'Sebastian Prödl'\n",
      " 'Serge Aurier' 'Sergio Aguero' 'Sergio Rico' 'Sergio Romero'\n",
      " 'Shane Duffy' 'Shane Long' 'Shinji Okazaki' 'Shkodran Mustafi'\n",
      " 'Simon Francis' 'Simon Mignolet' 'Sokratis Papastathopoulos'\n",
      " 'Solly March' 'Souleymane Bamba' 'Stefan Marius Johansen' 'Stefano Okaka'\n",
      " 'Stephan Lichtsteiner' 'Stephen Ward' 'Steve Cook' 'Steve Mounié'\n",
      " 'Steven Davis' 'Steven Defour' 'Stuart Armstrong' 'Sullay Kaikai'\n",
      " 'Tahith Chong' 'Terence Kongolo' 'Theo Walcott' 'Tim Ream'\n",
      " 'Timothy Eyoma' 'Timothy Fosu-Mensah' 'Toby Alderweireld' 'Tom Cairney'\n",
      " 'Tom Cleverley' 'Tom Davies' 'Tom Heaton' 'Tom Smith'\n",
      " 'Trent Alexander-Arnold' 'Troy Deeney' 'Tyias Browning' 'Tyreke Johnson'\n",
      " 'Tyrone Mings' 'Vicente Guaita' 'Vicente Iborra De La Fuente'\n",
      " 'Víctor Camarasa' 'Victor Lindelöf' 'Victor Moses' 'Victor Wanyama'\n",
      " 'Viktor Gyökeres' 'Vincent Janssen' 'Vincent Kompany' 'Virgil van Dijk'\n",
      " 'Wayne Hennessey' 'Wes Morgan' 'Wesley Hoedt' 'Wilfred Ndidi'\n",
      " 'Wilfried Zaha' 'Will Hughes' 'Will Norris' 'Willian' 'Willy Boly'\n",
      " 'Willy Caballero' 'Xherdan Shaqiri' 'Yan Valery' 'Yerry Mina'\n",
      " 'Yoshinori Muto' 'Youri Tielemans' 'Yves Bissouma' 'Zechariah Medley'\n",
      " 'Zeze  Steven Sessegnon' 'Łukasz Fabiański']\n",
      "['12/15/1989' '4/16/1987' '9/15/1990' '12/26/1990' '9/7/2000' '11/26/1997'\n",
      " '11/28/1996' '1/1/1993' '3/7/1995' '5/31/1997' '5/10/1988' '1/2/1994'\n",
      " '4/29/1991' '7/5/1996' '1/25/1996' '10/20/1997' '1/3/1987' '10/3/1986'\n",
      " '3/15/1989' '8/29/1997' '7/5/1992' '9/16/1994' '5/3/1996' '12/3/1989'\n",
      " '8/15/1993' '5/3/1993' '3/5/1990' '12/5/1995' '5/28/1991' '3/16/1997'\n",
      " '12/19/1988' '10/7/1997' '1/19/1994' '10/2/1998' '8/22/2000' '8/11/1993'\n",
      " '10/2/1992' '10/23/1992' '8/14/1989' '7/30/1993' '6/26/1991' '11/6/1990'\n",
      " '11/16/1995' '4/10/1996' '1/1/1996' '3/11/1994' '8/20/1986' '10/23/1989'\n",
      " '7/16/1991' '1/6/1989' '8/31/2000' '5/23/1988' '1/22/1996' '11/26/1999'\n",
      " '11/20/1991' '3/18/1995' '3/3/1993' '8/4/1985' '11/7/1998' '4/22/1989'\n",
      " '11/7/1993' '2/20/1980' '10/30/1989' '4/1/1990' '7/9/1985' '6/20/1987'\n",
      " '5/27/1994' '7/29/1993' '4/26/1988' '12/21/1996' '4/24/1993' '4/3/1983'\n",
      " '1/15/1993' '11/20/1987' '1/24/2000' '9/21/1989' '10/8/1997' '11/4/1999'\n",
      " '7/17/1994' '5/2/1988' '9/8/1992' '5/14/1995' '8/10/1994' '3/4/1992'\n",
      " '2/2/1993' '5/7/1983' '2/8/1998' '7/16/1988' '10/1/1980' '5/23/1996'\n",
      " '11/7/2000' '10/13/1994' '4/14/1997' '2/8/1999' '2/27/1992' '1/20/1995'\n",
      " '8/24/1999' '2/8/1992' '2/6/1986' '8/31/1991' '6/7/1991' '8/28/1989'\n",
      " '5/4/1987' '7/5/1989' '9/7/1986' '9/18/1993' '12/21/1989' '4/16/1989'\n",
      " '11/5/1997' '11/22/1989' '12/7/1991' '1/10/1992' '12/3/1990' '2/14/1992'\n",
      " '4/7/1986' '2/24/1991' '4/29/1990' '9/26/1989' '4/13/1983' '6/18/1991'\n",
      " '3/31/1993' '2/25/1993' '3/25/2000' '2/6/1989' '1/30/2001' '9/30/1992'\n",
      " '6/12/1989' '5/9/1992' '2/1/1990' '12/21/1994' '9/1/1989' '3/8/1989'\n",
      " '7/15/1991' '7/23/1992' '7/2/1990' '1/4/1987' '6/22/1993' '12/9/1990'\n",
      " '11/26/1990' '7/22/1989' '7/8/1997' '2/27/1989' '11/7/1990' '6/5/1990'\n",
      " '4/22/1987' '1/8/1986' '6/11/1992' '6/12/1996' '9/2/1991' '7/9/1993'\n",
      " '1/14/1999' '4/11/1996' '6/28/1996' '10/13/1998' '5/27/1988' '1/6/1994'\n",
      " '2/23/1993' '3/18/1999' '12/4/1996' '4/18/1995' '11/18/1999' '9/14/1997'\n",
      " '11/22/1999' '1/7/1991' '8/17/1993' '5/30/1999' '4/22/1992' '4/9/1996'\n",
      " '8/3/1994' '7/28/2000' '9/2/1992' '4/12/1994' '1/15/1994' '5/12/1992'\n",
      " '9/14/2000' '7/11/1988' '8/23/1991' '11/21/1989' '12/20/1991'\n",
      " '10/23/1993' '12/31/1987' '3/20/1990' '2/21/1989' '4/15/1993' '5/4/1985'\n",
      " '2/26/1985' '7/31/1994' '5/20/1991' '4/11/1993' '12/15/1988' '10/18/1995'\n",
      " '3/17/1988' '3/5/1993' '3/4/1997' '4/3/1997' '4/25/1988' '12/19/1985'\n",
      " '8/24/1990' '11/5/1998' '2/13/1995' '11/11/1990' '3/13/1994' '9/25/1983'\n",
      " '12/10/1987' '4/19/1998' '9/27/1992' '1/31/1991' '9/8/1989' '10/1/1997'\n",
      " '12/28/1989' '7/28/1993' '2/2/1996' '12/9/1997' '6/21/1990' '3/19/1995'\n",
      " '1/12/1994' '1/21/1989' '7/8/1992' '2/15/1981' '12/26/1986' '2/28/1994'\n",
      " '10/24/1990' '3/22/1995' '3/8/1996' '1/7/1996' '1/9/1997' '10/18/1993'\n",
      " '6/25/1989' '12/18/1996' '1/27/1994' '1/1/1992' '2/24/1995' '9/9/1996'\n",
      " '11/11/1993' '3/13/2001' '11/23/1996' '10/7/1987' '11/12/1990' '1/4/1986'\n",
      " '11/19/1992' '3/29/1989' '11/1/1994' '11/21/1995' '1/11/1987' '4/12/1996'\n",
      " '4/24/1987' '8/3/1992' '6/26/1986' '8/18/1990' '6/1/1988' '5/5/1994'\n",
      " '8/6/1999' '4/12/1991' '7/19/1991' '1/31/1992' '10/25/1994' '12/23/1992'\n",
      " '10/7/1982' '12/15/1992' '9/8/1986' '3/28/1990' '9/17/1993' '11/15/1997'\n",
      " '5/23/1997' '4/19/1987' '10/30/1998' '10/13/1993' '9/26/1995' '8/8/1991'\n",
      " '10/29/1989' '10/27/1990' '10/24/1986' '5/28/1994' '1/14/1996' '2/1/1989'\n",
      " '12/6/1988' '9/20/1983' '3/15/1997' '3/3/1994' '1/3/1988' '9/11/1991'\n",
      " '6/17/1990' '3/7/1994' '12/8/1995' '6/27/1984' '7/7/1992' '3/27/1990'\n",
      " '8/20/1999' '12/5/1999' '9/7/1997' '1/15/1992' '3/28/1997' '1/12/1998'\n",
      " '4/28/1988' '5/18/1979' '8/7/1997' '11/26/1989' '6/8/1993' '10/8/1990'\n",
      " '12/19/1997' '11/5/1986' '10/10/2000' '11/9/1998' '10/3/1996' '11/3/1999'\n",
      " '9/30/1993' '1/31/1994' '10/3/1994' '6/28/1991' '11/4/1988' '1/24/1989'\n",
      " '10/10/1997' '9/19/1990' '2/2/1991' '12/11/1997' '7/16/1995' '10/27/1994'\n",
      " '8/28/1999' '5/28/1990' '4/13/1997' '12/7/1988' '9/10/1985' '3/2/1994'\n",
      " '4/15/1995' '8/21/1991' '1/27/1983' '12/11/1986' '12/11/1984' '6/28/1988'\n",
      " '3/28/1994' '1/11/1996' '2/27/2000' '2/3/1997' '11/21/1991' '1/8/1991'\n",
      " '5/23/1998' '7/20/1993' '8/13/1992' '9/10/1988' '2/11/1996' '12/5/1993'\n",
      " '4/7/1991' '2/23/1997' '11/27/1998' '7/12/1995' '2/8/1996' '9/22/1982'\n",
      " '2/13/1990' '11/26/1991' '2/15/1993' '11/18/1989' '7/13/2000' '7/2/1995'\n",
      " '4/2/1987' '12/28/1990' '5/24/1992' '10/31/1997' '9/1/1993' '5/8/1987'\n",
      " '5/18/1999' '4/19/1989' '11/22/1987' '1/15/1989' '4/27/1990' '4/14/1991'\n",
      " '10/1/2001' '10/22/1996' '5/1/1992' '5/6/1994' '4/8/1992' '4/23/1990'\n",
      " '5/14/1997' '1/16/1992' '9/10/1989' '9/18/1995' '12/2/1989' '4/14/1999'\n",
      " '9/24/1987' '6/9/1989' '3/10/2001' '1/4/1999' '10/11/1989' '8/24/1988'\n",
      " '10/15/1988' '1/11/1993' '7/6/2000' '10/20/1983' '10/2/1993' '2/10/1994'\n",
      " '7/17/1985' '6/14/1987' '7/11/1992' '8/4/1994' '6/15/1992' '1/27/2000'\n",
      " '11/8/1989' '7/16/1987' '8/16/1989' '3/29/1991' '2/10/1995' '2/26/1986'\n",
      " '6/23/1992' '2/18/1995' '6/19/1998' '3/6/1994' '12/12/1994' '4/5/1991'\n",
      " '4/15/1992' '3/10/1992' '2/7/1990' '8/1/1988' '2/12/1988' '1/17/1999'\n",
      " '11/7/1999' '12/15/1996' '9/16/2000' '9/30/1986' '9/24/1991' '4/18/1990'\n",
      " '1/16/1985' '6/6/1990' '6/15/1991' '8/29/1990' '9/26/1991' '3/15/1993'\n",
      " '1/2/1992' '3/27/1992' '7/28/1987' '1/30/1981' '5/20/1982' '6/28/1985'\n",
      " '5/28/2000' '8/17/1982' '2/21/1992' '6/11/1996' '2/10/1997' '6/18/1989'\n",
      " '8/5/1995' '5/22/2000' '12/8/1994' '6/4/1991' '1/23/1997' '5/5/1991'\n",
      " '12/6/1994' '10/6/1993' '5/10/1997' '2/21/1991' '9/20/1995' '1/14/1992'\n",
      " '9/7/1987' '10/2/1991' '3/26/1990' '5/13/1993' '9/16/1989' '1/23/1996'\n",
      " '3/13/1997' '4/9/1999' '2/15/1988' '3/6/1990' '8/5/1989' '2/24/1994'\n",
      " '10/10/1992' '1/26/2000' '12/19/1986' '12/11/1999' '5/18/2000'\n",
      " '4/10/1992' '9/15/1995' '7/28/1998' '10/21/1989' '9/11/1998' '6/26/1987'\n",
      " '7/9/1995' '2/14/1987' '12/8/1996' '6/20/1993' '10/11/1988' '10/30/1997'\n",
      " '6/21/1987' '12/24/1992' '6/2/1988' '2/22/1987' '1/22/1987' '4/16/1986'\n",
      " '4/17/1992' '2/16/1985' '3/6/1988' '6/9/1988' '7/20/1994' '1/13/1985'\n",
      " '8/9/1989' '1/16/1984' '8/20/1985' '4/19/1991' '9/29/1994' '1/1/1985'\n",
      " '4/15/1988' '3/30/1992' '8/26/1995' '12/4/1999' '2/14/1994' '3/16/1989'\n",
      " '10/5/1987' '1/29/2000' '1/2/1998' '3/2/1989' '1/20/1991' '8/12/1989'\n",
      " '6/30/1998' '4/15/1986' '4/14/1992' '10/7/1998' '6/29/1988' '11/3/1998'\n",
      " '3/13/1993' '1/10/1987' '1/16/1988' '12/12/1990' '6/25/1991' '6/4/1998'\n",
      " '6/15/1994' '4/10/1986' '7/8/1991' '1/24/1987' '1/21/1984' '12/16/1996'\n",
      " '11/10/1992' '4/17/1995' '8/12/1993' '8/9/1988' '2/3/1991' '9/28/1981'\n",
      " '10/10/1991' '2/22/1999' '9/23/1994' '7/15/1992' '5/7/1997' '8/30/1996'\n",
      " '7/7/2000' '4/18/1985']\n",
      "['Premier League']\n",
      "['2018/2019']\n",
      "['Defender' 'Midfielder' 'Forward' 'Goalkeeper']\n",
      "['West Ham United' 'Burnley' 'Huddersfield Town' 'Arsenal'\n",
      " 'Crystal Palace' 'Watford' 'Fulham' 'Liverpool' 'AFC Bournemouth'\n",
      " 'Wolverhampton Wanderers' 'Everton' 'Leicester City' 'Southampton'\n",
      " 'Cardiff City' 'Manchester United' 'Tottenham Hotspur'\n",
      " 'Brighton & Hove Albion' 'Chelsea' 'Newcastle United' 'Manchester City']\n",
      "['England' 'Australia' 'Wales' 'Morocco' 'France' 'Venezuela' 'Italy'\n",
      " 'Spain' 'Jamaica' 'Portugal' 'Serbia' 'Nigeria' 'Norway' 'Chile' 'Iran'\n",
      " 'Brazil' 'Germany' 'Cameroon' 'Denmark' 'Scotland' 'Ukraine' 'Ecuador'\n",
      " 'Montenegro' 'Iceland' 'Poland' 'Bosnia and Herzegovina' 'Mali' 'Israel'\n",
      " 'Republic of Ireland' 'Gabon' 'Turkey' 'Colombia' 'Senegal' 'New Zealand'\n",
      " 'Ghana' 'Belgium' 'Austria' 'Northern Ireland' 'USA' 'Netherlands'\n",
      " 'Canada' 'Croatia' 'Congo DR' 'Argentina' 'Ivory Coast' 'Paraguay'\n",
      " 'Switzerland' 'Romania' 'Togo' 'Armenia' 'South Korea' 'Mexico'\n",
      " 'Slovenia' 'Greece' 'Sweden' 'Curaçao' 'Uruguay' 'Slovakia'\n",
      " 'Czech Republic' 'Japan' 'Egypt' 'Guinea' 'Philippines'\n",
      " 'Equatorial Guinea' 'Algeria' 'Benin' 'Kenya']\n"
     ]
    }
   ],
   "source": [
    "\n",
    "for column in df.select_dtypes(include=['object']).columns:\n",
    "    print(df[column].unique())\n"
   ]
  },
  {
   "cell_type": "markdown",
   "metadata": {},
   "source": [
    "## Section 6-Histograms: Use the DataFrame's hist() function to create a histogram for each numerical column"
   ]
  },
  {
   "cell_type": "code",
   "execution_count": 8,
   "metadata": {},
   "outputs": [
    {
     "data": {
      "image/png": "[encoded data removed]",
      "text/plain": [
       "<Figure size 640x480 with 1 Axes>"
      ]
     },
     "metadata": {},
     "output_type": "display_data"
    }
   ],
   "source": [
    "\n",
    "# Create a histogram for the 'age' column\n",
    "df['age'].hist()\n",
    "plt.title('Age Distribution')\n",
    "plt.xlabel('Age')\n",
    "plt.ylabel('Frequency')\n",
    "plt.show()\n",
    "\n"
   ]
  },
  {
   "cell_type": "markdown",
   "metadata": {},
   "source": [
    "## Section 7-List: Get some of your information into a list. Process each item in the list (use for or comprehensions as you like). "
   ]
  },
  {
   "cell_type": "code",
   "execution_count": 9,
   "metadata": {},
   "outputs": [],
   "source": [
    "list_data = df.values.tolist()\n",
    "for item in list_data:\n",
    "    pass  # do nothing\n"
   ]
  },
  {
   "cell_type": "code",
   "execution_count": 10,
   "metadata": {},
   "outputs": [
    {
     "name": "stdout",
     "output_type": "stream",
     "text": [
      "<bound method NDFrame.head of                   Full Name  age birthday_GMT    position  \\\n",
      "0           Aaron Cresswell   32   12/15/1989    Defender   \n",
      "1              Aaron Lennon   35    4/16/1987  Midfielder   \n",
      "2                Aaron Mooy   32    9/15/1990  Midfielder   \n",
      "3              Aaron Ramsey   31   12/26/1990  Midfielder   \n",
      "4                Aaron Rowe   22     9/7/2000     Forward   \n",
      "..                      ...  ...          ...         ...   \n",
      "565         Youri Tielemans   25     5/7/1997  Midfielder   \n",
      "566           Yves Bissouma   26    8/30/1996  Midfielder   \n",
      "567        Zechariah Medley   22     7/7/2000    Defender   \n",
      "568  Zeze  Steven Sessegnon   22    5/18/2000    Defender   \n",
      "569        Łukasz Fabiański   37    4/18/1985  Goalkeeper   \n",
      "\n",
      "               Current Club  \n",
      "0           West Ham United  \n",
      "1                   Burnley  \n",
      "2         Huddersfield Town  \n",
      "3                   Arsenal  \n",
      "4         Huddersfield Town  \n",
      "..                      ...  \n",
      "565          Leicester City  \n",
      "566  Brighton & Hove Albion  \n",
      "567                 Arsenal  \n",
      "568                  Fulham  \n",
      "569         West Ham United  \n",
      "\n",
      "[570 rows x 5 columns]>\n"
     ]
    }
   ],
   "source": [
    "df = df[['Full Name', 'age', 'birthday_GMT', 'position', 'Current Club']]\n",
    "\n",
    "print(df.head)\n"
   ]
  },
  {
   "cell_type": "markdown",
   "metadata": {},
   "source": [
    "## Section 8-Filter: Use filter() to show only part of the information. "
   ]
  },
  {
   "cell_type": "code",
   "execution_count": 11,
   "metadata": {},
   "outputs": [
    {
     "name": "stdout",
     "output_type": "stream",
     "text": [
      "                  Full Name  age birthday_GMT    position  \\\n",
      "0           Aaron Cresswell   32   12/15/1989    Defender   \n",
      "1              Aaron Lennon   35    4/16/1987  Midfielder   \n",
      "2                Aaron Mooy   32    9/15/1990  Midfielder   \n",
      "3              Aaron Ramsey   31   12/26/1990  Midfielder   \n",
      "4                Aaron Rowe   22     9/7/2000     Forward   \n",
      "..                      ...  ...          ...         ...   \n",
      "565         Youri Tielemans   25     5/7/1997  Midfielder   \n",
      "566           Yves Bissouma   26    8/30/1996  Midfielder   \n",
      "567        Zechariah Medley   22     7/7/2000    Defender   \n",
      "568  Zeze  Steven Sessegnon   22    5/18/2000    Defender   \n",
      "569        Łukasz Fabiański   37    4/18/1985  Goalkeeper   \n",
      "\n",
      "               Current Club  \n",
      "0           West Ham United  \n",
      "1                   Burnley  \n",
      "2         Huddersfield Town  \n",
      "3                   Arsenal  \n",
      "4         Huddersfield Town  \n",
      "..                      ...  \n",
      "565          Leicester City  \n",
      "566  Brighton & Hove Albion  \n",
      "567                 Arsenal  \n",
      "568                  Fulham  \n",
      "569         West Ham United  \n",
      "\n",
      "[570 rows x 5 columns]\n"
     ]
    }
   ],
   "source": [
    "filtered_data = df[df['age'] > 30]\n",
    "\n",
    "print(df)"
   ]
  },
  {
   "cell_type": "code",
   "execution_count": 12,
   "metadata": {},
   "outputs": [
    {
     "name": "stdout",
     "output_type": "stream",
     "text": [
      "Number of players over 30:  250\n"
     ]
    }
   ],
   "source": [
    "num_players_over_30 = filtered_data.shape[0]\n",
    "print(\"Number of players over 30: \", num_players_over_30)\n"
   ]
  },
  {
   "cell_type": "markdown",
   "metadata": {},
   "source": [
    "## Section 9-Map: Use map() to transform some of the data. \n"
   ]
  },
  {
   "cell_type": "code",
   "execution_count": 13,
   "metadata": {},
   "outputs": [
    {
     "name": "stdout",
     "output_type": "stream",
     "text": [
      "age_category\n",
      "Veteran    457\n",
      "Youth      113\n",
      "Name: count, dtype: int64\n"
     ]
    }
   ],
   "source": [
    "df['age_category'] = df['age'].map(lambda x: 'Youth' if 21 <= x <= 25 else 'Veteran')\n",
    "\n",
    "\n",
    "\n",
    "# Count the number of 'Youth' and 'Adult' players\n",
    "age_category_counts = df['age_category'].value_counts()\n",
    "\n",
    "print(age_category_counts)"
   ]
  },
  {
   "cell_type": "code",
   "execution_count": 14,
   "metadata": {},
   "outputs": [],
   "source": [
    "df = pd.read_csv('players.csv')  \n"
   ]
  },
  {
   "cell_type": "code",
   "execution_count": 15,
   "metadata": {},
   "outputs": [
    {
     "name": "stdout",
     "output_type": "stream",
     "text": [
      "Index(['Full Name', 'age', 'birthday_GMT', 'position', 'Current Club',\n",
      "       'nationality'],\n",
      "      dtype='object')\n"
     ]
    }
   ],
   "source": [
    "df = df[['Full Name', 'age', 'birthday_GMT', 'position', 'Current Club', 'nationality']]\n",
    "\n",
    "print(df.columns)\n"
   ]
  },
  {
   "cell_type": "code",
   "execution_count": 16,
   "metadata": {},
   "outputs": [
    {
     "data": {
      "image/png": "[encoded data removed]",
      "text/plain": [
       "<Figure size 1000x600 with 1 Axes>"
      ]
     },
     "metadata": {},
     "output_type": "display_data"
    }
   ],
   "source": [
    "\n",
    "# Count the number of players from each nationality\n",
    "nationality_counts = df['nationality'].value_counts()\n",
    "\n",
    "# Create a bar chart for the top 10 nationalities\n",
    "plt.figure(figsize=(10,6))\n",
    "bars = plt.bar(nationality_counts[:10].index, nationality_counts[:10].values)\n",
    "plt.title('Top 10 Nationalities with the Highest Number of Players')\n",
    "plt.xlabel('Nationality')\n",
    "plt.ylabel('Number of Players')\n",
    "\n",
    "# Rotate x-axis labels\n",
    "plt.xticks(rotation=45)\n",
    "\n",
    "# Add labels on top of the bars\n",
    "for bar in bars:\n",
    "    yval = bar.get_height()\n",
    "    plt.text(bar.get_x() + bar.get_width()/2, yval + 0.5, yval, ha='center', va='bottom')\n",
    "\n",
    "plt.show()\n",
    "\n",
    "\n",
    "\n"
   ]
  },
  {
   "cell_type": "markdown",
   "metadata": {},
   "source": [
    "#### Looking at the top 10 nationalities in 2018-2019 English Premier League season, it's clear that England had the impressive count of 215 players, reflecting the country's deep-rooted soccer tradition. Spain is second with total of 35 players, and France in third with 31 players."
   ]
  }
 ],
 "metadata": {
  "kernelspec": {
   "display_name": "Python (.venv)",
   "language": "python",
   "name": ".venv"
  },
  "language_info": {
   "codemirror_mode": {
    "name": "ipython",
    "version": 3
   },
   "file_extension": ".py",
   "mimetype": "text/x-python",
   "name": "python",
   "nbconvert_exporter": "python",
   "pygments_lexer": "ipython3",
   "version": "3.11.4"
  },
  "orig_nbformat": 4
 },
 "nbformat": 4,
 "nbformat_minor": 2
}
